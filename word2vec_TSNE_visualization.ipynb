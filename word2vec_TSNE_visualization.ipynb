{
 "cells": [
  {
   "cell_type": "markdown",
   "metadata": {
    "ExecuteTime": {
     "end_time": "2017-08-12T02:42:02.326874Z",
     "start_time": "2017-08-12T02:42:02.317270Z"
    }
   },
   "source": [
    "## About\n",
    "This jupyter notebook covers using \"word2vec\" in python. To run this you neeed [gensim](http://radimrehurek.com/gensim/install.html) a word2vec implementation in python and \n",
    "[Cython](http://docs.cython.org/en/latest/src/quickstart/install.html) to speed up the traning process.\n",
    "\n",
    "The ouputs of word2vec are reduced to lower dimensions using [TSNE](http://scikit-learn.org/stable/modules/generated/sklearn.manifold.TSNE.html) and plotted for better visualization."
   ]
  },
  {
   "cell_type": "code",
   "execution_count": 1,
   "metadata": {
    "ExecuteTime": {
     "end_time": "2017-08-12T02:14:42.634891Z",
     "start_time": "2017-08-12T02:14:13.023376Z"
    }
   },
   "outputs": [
    {
     "name": "stderr",
     "output_type": "stream",
     "text": [
      "Using TensorFlow backend.\n"
     ]
    }
   ],
   "source": [
    "%matplotlib inline \n",
    "from gensim.models.word2vec import Word2Vec\n",
    "from sklearn.manifold import TSNE\n",
    "from sklearn.datasets import fetch_20newsgroups\n",
    "import pandas as pd \n",
    "import numpy as np\n",
    "import re\n",
    "import matplotlib.pyplot as plt"
   ]
  },
  {
   "cell_type": "code",
   "execution_count": 2,
   "metadata": {
    "ExecuteTime": {
     "end_time": "2017-08-12T02:16:23.597964Z",
     "start_time": "2017-08-12T02:14:42.637100Z"
    }
   },
   "outputs": [
    {
     "name": "stderr",
     "output_type": "stream",
     "text": [
      "Downloading 20news dataset. This may take a few minutes.\n",
      "Downloading dataset from https://ndownloader.figshare.com/files/5975967 (14 MB)\n"
     ]
    }
   ],
   "source": [
    "# download example data ( may take a while)\n",
    "train = fetch_20newsgroups()"
   ]
  },
  {
   "cell_type": "code",
   "execution_count": 3,
   "metadata": {
    "ExecuteTime": {
     "end_time": "2017-08-12T02:16:31.278991Z",
     "start_time": "2017-08-12T02:16:31.274538Z"
    },
    "collapsed": true
   },
   "outputs": [],
   "source": [
    "def clean(text):\n",
    "    \"\"\"Remove posting header, split by sentences and words, keep only letters\"\"\"\n",
    "    lines = re.split('[?!.:]\\s', re.sub('^.*Lines: \\d+', '', re.sub('\\n', ' ', text)))\n",
    "    return [re.sub('[^a-zA-Z]', ' ', line).lower().split() for line in lines]"
   ]
  },
  {
   "cell_type": "code",
   "execution_count": 4,
   "metadata": {
    "ExecuteTime": {
     "end_time": "2017-08-12T02:16:54.792189Z",
     "start_time": "2017-08-12T02:16:32.392257Z"
    },
    "collapsed": true
   },
   "outputs": [],
   "source": [
    "# input to word2vec model\n",
    "sentences = [line for text in train.data for line in clean(text)]\n",
    "model = Word2Vec(sentences, workers=4, size=100, min_count=50, window=10, sample=1e-3)"
   ]
  },
  {
   "cell_type": "code",
   "execution_count": 17,
   "metadata": {
    "ExecuteTime": {
     "end_time": "2017-08-12T02:35:35.659321Z",
     "start_time": "2017-08-12T02:35:35.497635Z"
    },
    "collapsed": true
   },
   "outputs": [],
   "source": [
    "# save the trained model\n",
    "model.save('20newsgroups_analysis')"
   ]
  },
  {
   "cell_type": "code",
   "execution_count": null,
   "metadata": {
    "collapsed": true
   },
   "outputs": [],
   "source": [
    "#load the saved model\n",
    "#model = Word2Vec.load('20newsgroups_analysis')"
   ]
  },
  {
   "cell_type": "code",
   "execution_count": 5,
   "metadata": {
    "ExecuteTime": {
     "end_time": "2017-08-12T02:17:32.283470Z",
     "start_time": "2017-08-12T02:17:32.264054Z"
    }
   },
   "outputs": [
    {
     "name": "stdout",
     "output_type": "stream",
     "text": [
      "[('cpu', 0.8466349840164185), ('colour', 0.7780674695968628), ('configuration', 0.7754700779914856), ('cache', 0.7640649080276489), ('monitor', 0.7624616622924805), ('ram', 0.7546811103820801), ('disk', 0.7480458617210388), ('timing', 0.7474486827850342), ('motherboard', 0.7430862784385681), ('fixed', 0.742327094078064)]\n"
     ]
    }
   ],
   "source": [
    "# most similar words to 'memory'\n",
    "print (model.most_similar('memory'))"
   ]
  },
  {
   "cell_type": "code",
   "execution_count": 18,
   "metadata": {
    "ExecuteTime": {
     "end_time": "2017-08-12T02:36:48.115917Z",
     "start_time": "2017-08-12T02:36:48.110154Z"
    }
   },
   "outputs": [
    {
     "data": {
      "text/plain": [
       "'\\nX = model[model.wv.vocab]\\ntsne = TSNE(n_components=2)\\nX_tsne = tsne.fit_transform(X)\\nplt.scatter(X_tsne[:, 0], X_tsne[:, 1])\\nplt.show()\\n'"
      ]
     },
     "execution_count": 18,
     "metadata": {},
     "output_type": "execute_result"
    }
   ],
   "source": [
    "# simple visualization\n",
    "'''\n",
    "X = model[model.wv.vocab]\n",
    "tsne = TSNE(n_components=2)\n",
    "X_tsne = tsne.fit_transform(X)\n",
    "plt.scatter(X_tsne[:, 0], X_tsne[:, 1])\n",
    "plt.show()\n",
    "'''"
   ]
  },
  {
   "cell_type": "code",
   "execution_count": 7,
   "metadata": {
    "ExecuteTime": {
     "end_time": "2017-08-12T02:26:44.513283Z",
     "start_time": "2017-08-12T02:24:07.363431Z"
    },
    "collapsed": true
   },
   "outputs": [],
   "source": [
    "# getting the words\n",
    "vocab = list(model.wv.vocab)\n",
    "X = model[vocab]\n",
    "\n",
    "# transforming the words from orignal dimensions to '2' using TSNE\n",
    "tsne = TSNE(n_components=2)\n",
    "X_tsne = tsne.fit_transform(X)"
   ]
  },
  {
   "cell_type": "code",
   "execution_count": 14,
   "metadata": {
    "ExecuteTime": {
     "end_time": "2017-08-12T02:29:16.835492Z",
     "start_time": "2017-08-12T02:29:16.814909Z"
    }
   },
   "outputs": [
    {
     "data": {
      "text/html": [
       "<div>\n",
       "<style>\n",
       "    .dataframe thead tr:only-child th {\n",
       "        text-align: right;\n",
       "    }\n",
       "\n",
       "    .dataframe thead th {\n",
       "        text-align: left;\n",
       "    }\n",
       "\n",
       "    .dataframe tbody tr th {\n",
       "        vertical-align: top;\n",
       "    }\n",
       "</style>\n",
       "<table border=\"1\" class=\"dataframe\">\n",
       "  <thead>\n",
       "    <tr style=\"text-align: right;\">\n",
       "      <th></th>\n",
       "      <th>x</th>\n",
       "      <th>y</th>\n",
       "      <th>word</th>\n",
       "    </tr>\n",
       "  </thead>\n",
       "  <tbody>\n",
       "    <tr>\n",
       "      <th>0</th>\n",
       "      <td>48.733624</td>\n",
       "      <td>-8.218798</td>\n",
       "      <td>teaching</td>\n",
       "    </tr>\n",
       "    <tr>\n",
       "      <th>1</th>\n",
       "      <td>-20.930243</td>\n",
       "      <td>28.322296</td>\n",
       "      <td>archive</td>\n",
       "    </tr>\n",
       "    <tr>\n",
       "      <th>2</th>\n",
       "      <td>61.768017</td>\n",
       "      <td>18.975590</td>\n",
       "      <td>cannot</td>\n",
       "    </tr>\n",
       "    <tr>\n",
       "      <th>3</th>\n",
       "      <td>32.007534</td>\n",
       "      <td>-12.570704</td>\n",
       "      <td>judged</td>\n",
       "    </tr>\n",
       "    <tr>\n",
       "      <th>4</th>\n",
       "      <td>-54.270920</td>\n",
       "      <td>-10.073072</td>\n",
       "      <td>article</td>\n",
       "    </tr>\n",
       "  </tbody>\n",
       "</table>\n",
       "</div>"
      ],
      "text/plain": [
       "           x          y      word\n",
       "0  48.733624  -8.218798  teaching\n",
       "1 -20.930243  28.322296   archive\n",
       "2  61.768017  18.975590    cannot\n",
       "3  32.007534 -12.570704    judged\n",
       "4 -54.270920 -10.073072   article"
      ]
     },
     "execution_count": 14,
     "metadata": {},
     "output_type": "execute_result"
    }
   ],
   "source": [
    "# forming a pandas frame from TSNE output\n",
    "df = pd.concat([pd.DataFrame(X_tsne),\n",
    "                pd.Series(vocab)],\n",
    "               axis=1)\n",
    "\n",
    "df.columns = ['x', 'y', 'word']\n",
    "df.head()"
   ]
  },
  {
   "cell_type": "code",
   "execution_count": 16,
   "metadata": {
    "ExecuteTime": {
     "end_time": "2017-08-12T02:31:18.679850Z",
     "start_time": "2017-08-12T02:31:18.343615Z"
    }
   },
   "outputs": [
    {
     "data": {
      "text/plain": [
       "<matplotlib.collections.PathCollection at 0x7f675c5d5c50>"
      ]
     },
     "execution_count": 16,
     "metadata": {},
     "output_type": "execute_result"
    },
    {
     "data": {
      "image/png": "[encoded data removed]",
      "text/plain": [
       "<matplotlib.figure.Figure at 0x7f675c5acc50>"
      ]
     },
     "metadata": {},
     "output_type": "display_data"
    }
   ],
   "source": [
    "# plotting the TSNE results \n",
    "fig = plt.figure()\n",
    "ax = fig.add_subplot(1, 1, 1)\n",
    "\n",
    "'''\n",
    "# adding annotation to points of graph\n",
    "for i, txt in enumerate(df['word']):\n",
    "    ax.annotate(txt, (df['x'].iloc[i], df['y'].iloc[i]))\n",
    "'''\n",
    "# plotting the graph\n",
    "ax.scatter(df['x'], df['y'])"
   ]
  }
 ],
 "metadata": {
  "kernelspec": {
   "display_name": "keras_env",
   "language": "python",
   "name": "keras_env"
  },
  "language_info": {
   "codemirror_mode": {
    "name": "ipython",
    "version": 3
   },
   "file_extension": ".py",
   "mimetype": "text/x-python",
   "name": "python",
   "nbconvert_exporter": "python",
   "pygments_lexer": "ipython3",
   "version": "3.5.3"
  }
 },
 "nbformat": 4,
 "nbformat_minor": 2
}
