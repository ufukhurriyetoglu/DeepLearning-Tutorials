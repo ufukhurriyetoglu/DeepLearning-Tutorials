{
 "cells": [
  {
   "cell_type": "markdown",
   "metadata": {},
   "source": [
    "## About\n",
    "This jupyter notebook covers using \"word2vec\" in python. It mainly follows these links [1](https://www.kaggle.com/c/word2vec-nlp-tutorial/details/part-2-word-vectors) and [2](https://rare-technologies.com/word2vec-tutorial/)\n",
    "\n",
    "To run this you neeed [gensim](http://radimrehurek.com/gensim/install.html) a word2vec implementation in python and \n",
    "[Cython](http://docs.cython.org/en/latest/src/quickstart/install.html) to speed up the traning process.\n",
    "\n"
   ]
  },
  {
   "cell_type": "code",
   "execution_count": 7,
   "metadata": {
    "ExecuteTime": {
     "end_time": "2017-08-12T01:58:11.949315Z",
     "start_time": "2017-08-12T01:58:11.942299Z"
    },
    "collapsed": true
   },
   "outputs": [],
   "source": [
    "import gensim \n",
    "from nltk.corpus import brown # our input text corpus\n"
   ]
  },
  {
   "cell_type": "code",
   "execution_count": 8,
   "metadata": {
    "ExecuteTime": {
     "end_time": "2017-08-12T01:58:43.514056Z",
     "start_time": "2017-08-12T01:58:12.933791Z"
    }
   },
   "outputs": [
    {
     "name": "stdout",
     "output_type": "stream",
     "text": [
      "Brown corpus model saved\n"
     ]
    }
   ],
   "source": [
    "sentences = brown.sents()\n",
    "model = gensim.models.Word2Vec(sentences, min_count=1)\n",
    "model.save('brown_model')\n",
    "print (\"Brown corpus model saved\")"
   ]
  },
  {
   "cell_type": "code",
   "execution_count": 9,
   "metadata": {
    "ExecuteTime": {
     "end_time": "2017-08-12T02:00:12.962716Z",
     "start_time": "2017-08-12T02:00:12.187102Z"
    },
    "collapsed": true
   },
   "outputs": [],
   "source": [
    "# loading the saved model\n",
    "model = gensim.models.Word2Vec.load('brown_model')"
   ]
  },
  {
   "cell_type": "code",
   "execution_count": 10,
   "metadata": {
    "ExecuteTime": {
     "end_time": "2017-08-12T02:00:13.345179Z",
     "start_time": "2017-08-12T02:00:13.282445Z"
    }
   },
   "outputs": [
    {
     "name": "stdout",
     "output_type": "stream",
     "text": [
      "[('father', 0.9716749787330627), ('husband', 0.9568760395050049), ('wife', 0.9476687908172607), ('son', 0.9267513751983643), ('voice', 0.9253851771354675), ('friend', 0.9153987765312195), ('boy', 0.9129180312156677), ('associates', 0.8958090543746948), ('doctor', 0.8902393579483032), ('parents', 0.8901509642601013)]\n"
     ]
    }
   ],
   "source": [
    "#words most similar to mother\n",
    "print (model.most_similar('mother'))"
   ]
  },
  {
   "cell_type": "code",
   "execution_count": 11,
   "metadata": {
    "ExecuteTime": {
     "end_time": "2017-08-12T02:00:37.621706Z",
     "start_time": "2017-08-12T02:00:37.617474Z"
    }
   },
   "outputs": [
    {
     "name": "stdout",
     "output_type": "stream",
     "text": [
      "cereal\n"
     ]
    }
   ],
   "source": [
    "#find the odd one out\n",
    "print (model.doesnt_match(\"breakfast cereal dinner lunch\".split()))"
   ]
  },
  {
   "cell_type": "code",
   "execution_count": 12,
   "metadata": {
    "ExecuteTime": {
     "end_time": "2017-08-12T02:00:43.332776Z",
     "start_time": "2017-08-12T02:00:43.326974Z"
    }
   },
   "outputs": [
    {
     "name": "stdout",
     "output_type": "stream",
     "text": [
      "cat\n"
     ]
    }
   ],
   "source": [
    "print (model.doesnt_match(\"cat dog table\".split()))"
   ]
  },
  {
   "cell_type": "code",
   "execution_count": 15,
   "metadata": {
    "ExecuteTime": {
     "end_time": "2017-08-12T02:01:06.630571Z",
     "start_time": "2017-08-12T02:01:06.617621Z"
    }
   },
   "outputs": [
    {
     "name": "stdout",
     "output_type": "stream",
     "text": [
      "[-0.72254038  0.17949681  0.00642312  0.36160183 -0.81948161  0.6243962\n",
      " -0.66187006 -0.74641114 -0.09503332 -0.23606272  0.64780957  0.57990664\n",
      "  0.7386809   0.24743132 -0.00212169  1.27612221  0.87694687  0.44984573\n",
      "  0.31209669  0.30044502  0.70880497  0.18341742  0.74714494 -0.0302901\n",
      " -0.36716637  0.16509439 -0.71984756 -0.96486157  0.26481009  0.38625351\n",
      "  0.21529475  0.56267303  1.18193507 -0.55777329  0.48653871  0.08499032\n",
      " -0.38406417 -0.143549    0.81065661 -0.308505    0.30309582  0.13010235\n",
      " -0.20758633  0.0191508   0.29142687 -0.06650674  0.05530098  0.62195516\n",
      "  0.18280254  0.26806024  0.98715121 -0.16787688  0.34963733 -0.81214732\n",
      "  0.2504912   0.0594178   0.395518   -0.39663586 -0.21435246  0.40630543\n",
      " -0.74395585  0.11347982 -0.60454392 -0.32418135  0.04863525 -1.24836087\n",
      " -0.366826    0.73175389 -0.07700744  0.11589043 -0.11250992 -0.2599268\n",
      " -0.04852363 -1.48551667  0.38344172  0.77854973 -0.64731044 -0.03795156\n",
      "  0.55075961  0.69190985  0.43620059  0.61295688  0.78561425  0.47794163\n",
      "  0.41074905 -1.21976149  1.10431743 -0.132264   -0.53866899 -0.21490817\n",
      " -0.18078282  0.09505345 -0.24877839  0.80644208  0.50893176 -0.28963676\n",
      " -0.65022272 -0.15400009 -0.24114726  1.08209276]\n"
     ]
    }
   ],
   "source": [
    "#vector representation of word 'human'\n",
    "print (model['human'])"
   ]
  },
  {
   "cell_type": "code",
   "execution_count": null,
   "metadata": {
    "collapsed": true
   },
   "outputs": [],
   "source": []
  }
 ],
 "metadata": {
  "kernelspec": {
   "display_name": "keras_env",
   "language": "python",
   "name": "keras_env"
  },
  "language_info": {
   "codemirror_mode": {
    "name": "ipython",
    "version": 3
   },
   "file_extension": ".py",
   "mimetype": "text/x-python",
   "name": "python",
   "nbconvert_exporter": "python",
   "pygments_lexer": "ipython3",
   "version": "3.5.3"
  }
 },
 "nbformat": 4,
 "nbformat_minor": 2
}
