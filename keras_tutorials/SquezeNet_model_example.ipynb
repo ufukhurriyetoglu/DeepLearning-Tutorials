{
 "cells": [
  {
   "cell_type": "markdown",
   "metadata": {},
   "source": [
    "# About:\n",
    "'SquezeNet' model has AlexNet accuracy with small footprint (5.1 MB) Pretrained models are converted from original Caffe network. Original caffe implementation can be foud [here](https://github.com/DeepScale/SqueezeNet). The original paper describing the architecture is here : [SquezeNet-paper](https://arxiv.org/abs/1602.07360). The corresponding implementation in Keras can be found on GitHub [here](https://github.com/rcmalli/keras-squeezenet)"
   ]
  },
  {
   "cell_type": "code",
   "execution_count": 11,
   "metadata": {
    "ExecuteTime": {
     "end_time": "2017-08-13T03:24:57.869646Z",
     "start_time": "2017-08-13T03:24:57.865527Z"
    },
    "collapsed": true
   },
   "outputs": [],
   "source": [
    "import numpy as np\n",
    "from keras_squeezenet import SqueezeNet\n",
    "from keras.applications.imagenet_utils import preprocess_input, decode_predictions\n",
    "from keras.preprocessing import image"
   ]
  },
  {
   "cell_type": "code",
   "execution_count": 12,
   "metadata": {
    "ExecuteTime": {
     "end_time": "2017-08-13T03:25:45.384157Z",
     "start_time": "2017-08-13T03:25:43.995443Z"
    }
   },
   "outputs": [
    {
     "name": "stdout",
     "output_type": "stream",
     "text": [
      "Predicted: [[('n02091032', 'Italian_greyhound', 0.28717306), ('n02093256', 'Staffordshire_bullterrier', 0.22952054), ('n02087046', 'toy_terrier', 0.12665275), ('n02085620', 'Chihuahua', 0.097825803), ('n02091467', 'Norwegian_elkhound', 0.063549586)]]\n"
     ]
    }
   ],
   "source": [
    "model = SqueezeNet()\n",
    "input_image = '1.jpg'\n",
    "img = image.load_img(input_image, target_size=(227, 227))\n",
    "x = image.img_to_array(img)\n",
    "x = np.expand_dims(x, axis=0)\n",
    "x = preprocess_input(x)\n",
    "\n",
    "preds = model.predict(x)\n",
    "print('Predicted:', decode_predictions(preds))"
   ]
  },
  {
   "cell_type": "code",
   "execution_count": null,
   "metadata": {
    "collapsed": true
   },
   "outputs": [],
   "source": []
  }
 ],
 "metadata": {
  "kernelspec": {
   "display_name": "keras_env",
   "language": "python",
   "name": "keras_env"
  },
  "language_info": {
   "codemirror_mode": {
    "name": "ipython",
    "version": 3
   },
   "file_extension": ".py",
   "mimetype": "text/x-python",
   "name": "python",
   "nbconvert_exporter": "python",
   "pygments_lexer": "ipython3",
   "version": "3.5.3"
  }
 },
 "nbformat": 4,
 "nbformat_minor": 2
}
